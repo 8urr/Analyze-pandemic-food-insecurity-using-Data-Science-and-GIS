{
 "cells": [
  {
   "cell_type": "code",
   "execution_count": 3,
   "id": "3fc6e0ec",
   "metadata": {},
   "outputs": [],
   "source": [
    "import pandas as pd\n",
    "import numpy as np\n",
    "import matplotlib.pyplot as plt\n",
    "import seaborn as sns\n",
    "from pylab import rcParams\n",
    "random_state = 42\n",
    "\n",
    "\n",
    "import Python_Code.Scripts as sc\n",
    "import Python_Code.Reference as ref\n",
    "import pickle\n",
    "\n",
    "from sklearn.model_selection import train_test_split,cross_val_score,GridSearchCV\n",
    "from sklearn.metrics import accuracy_score,classification_report,confusion_matrix,recall_score,precision_score\n",
    "from treeinterpreter import treeinterpreter as ti\n",
    "from sklearn.preprocessing import StandardScaler\n",
    "from sklearn.decomposition import PCA\n",
    "\n",
    "from sklearn.linear_model import LogisticRegression\n",
    "from sklearn.tree import DecisionTreeClassifier,ExtraTreeClassifier\n",
    "from sklearn.ensemble import RandomForestClassifier,GradientBoostingClassifier,AdaBoostClassifier,BaggingClassifier, VotingClassifier\n",
    "from sklearn.svm import SVC\n",
    "from sklearn.naive_bayes import GaussianNB"
   ]
  },
  {
   "cell_type": "code",
   "execution_count": 4,
   "id": "7f969f12",
   "metadata": {},
   "outputs": [],
   "source": [
    "df = pd.read_csv(\"./data/final.csv\")"
   ]
  },
  {
   "cell_type": "code",
   "execution_count": 5,
   "id": "b5f98a7d",
   "metadata": {},
   "outputs": [
    {
     "name": "stdout",
     "output_type": "stream",
     "text": [
      "<class 'pandas.core.frame.DataFrame'>\n",
      "RangeIndex: 3904 entries, 0 to 3903\n",
      "Data columns (total 25 columns):\n",
      " #   Column    Non-Null Count  Dtype  \n",
      "---  ------    --------------  -----  \n",
      " 0   FSUNEMP   3904 non-null   float64\n",
      " 1   FSNK5T17  3904 non-null   float64\n",
      " 2   LIQRESOR  3904 non-null   float64\n",
      " 3   FSSLTDE2  3904 non-null   float64\n",
      " 4   FSSLTDED  3904 non-null   float64\n",
      " 5   FSOTHUN   3904 non-null   float64\n",
      " 6   FSGRINC   3904 non-null   float64\n",
      " 7   FSUSIZE   3904 non-null   float64\n",
      " 8   FSTOTDE2  3904 non-null   float64\n",
      " 9   FSSTDDE2  3904 non-null   float64\n",
      " 10  FSNONCIT  3904 non-null   float64\n",
      " 11  RAWERND   3904 non-null   float64\n",
      " 12  FSTOTDED  3904 non-null   float64\n",
      " 13  REALPROP  3904 non-null   float64\n",
      " 14  FSERNDED  3904 non-null   float64\n",
      " 15  FSERNDE2  3904 non-null   float64\n",
      " 16  FSNELDER  3904 non-null   float64\n",
      " 17  FSNDISCA  3904 non-null   float64\n",
      " 18  FSWAGES   3904 non-null   float64\n",
      " 19  FSWCOMP   3904 non-null   float64\n",
      " 20  FSSLTEXP  3904 non-null   float64\n",
      " 21  CERTHHSZ  3904 non-null   float64\n",
      " 22  CAT_ELIG  3904 non-null   float64\n",
      " 23  FSVEHAST  3904 non-null   float64\n",
      " 24  VEHICLEA  3904 non-null   float64\n",
      "dtypes: float64(25)\n",
      "memory usage: 762.6 KB\n"
     ]
    }
   ],
   "source": [
    "df.info()"
   ]
  },
  {
   "cell_type": "code",
   "execution_count": null,
   "id": "c7367c72",
   "metadata": {},
   "outputs": [],
   "source": []
  }
 ],
 "metadata": {
  "kernelspec": {
   "display_name": "Python 3 (ipykernel)",
   "language": "python",
   "name": "python3"
  },
  "language_info": {
   "codemirror_mode": {
    "name": "ipython",
    "version": 3
   },
   "file_extension": ".py",
   "mimetype": "text/x-python",
   "name": "python",
   "nbconvert_exporter": "python",
   "pygments_lexer": "ipython3",
   "version": "3.10.9"
  }
 },
 "nbformat": 4,
 "nbformat_minor": 5
}
